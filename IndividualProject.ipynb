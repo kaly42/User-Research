{
  "nbformat": 4,
  "nbformat_minor": 0,
  "metadata": {
    "colab": {
      "provenance": []
    },
    "kernelspec": {
      "name": "python3",
      "display_name": "Python 3"
    },
    "language_info": {
      "name": "python"
    }
  },
  "cells": [
    {
      "cell_type": "code",
      "execution_count": null,
      "metadata": {
        "id": "dTdfSuo6IU-c"
      },
      "outputs": [],
      "source": [
        "!conda install -c huggingface transformers\n",
        "!pip install transformers\n",
        "!pip install torch\n",
        "!pip install chardet\n",
        "!pip install text2emotion\n",
        "!pip install emoji==1.6.3\n",
        "!pip install scrapy"
      ]
    },
    {
      "cell_type": "code",
      "source": [
        "import scrapy\n",
        "from scrapy.crawler import CrawlerProcess\n",
        "from scrapy import signals\n",
        "\n",
        "class AmazonReviewsSpider(scrapy.Spider):\n",
        "    name = \"amazon_reviews\"\n",
        "\n",
        "    def start_requests(self):\n",
        "        asin_list = ['B00LO33MBG']\n",
        "        for asin in asin_list:\n",
        "            amazon_reviews_url = f'https://www.amazon.com/product-reviews/{asin}/'\n",
        "            yield scrapy.Request(url=amazon_reviews_url, callback=self.parse_reviews, meta={'asin': asin}, headers={'User-Agent': 'Mozilla/5.0 (Windows NT 10.0; Win64; x64) AppleWebKit/537.36 (KHTML, like Gecko) Chrome/58.0.3029.110 Safari/537.3'})\n",
        "\n",
        "    def parse_reviews(self, response):\n",
        "        asin = response.meta['asin']\n",
        "\n",
        "        ## Parse Product Reviews\n",
        "        review_elements = response.css(\"#cm_cr-review_list div.review\")\n",
        "        for review_element in review_elements:\n",
        "            yield {\n",
        "                \"asin\": asin,\n",
        "                \"text\": \"\".join(review_element.css(\"span[data-hook=review-body] ::text\").getall()).strip(),\n",
        "                \"title\": review_element.css(\"*[data-hook=review-title]>span::text\").get(),\n",
        "                \"rating\": review_element.css(\"*[data-hook*=review-star-rating] ::text\").re(r\"(\\d+\\.*\\d*) out\")[0],\n",
        "            }\n",
        "\n",
        "# Run the spider\n",
        "process = CrawlerProcess(settings={\n",
        "    'FEED_FORMAT': 'json',\n",
        "    'FEED_URI': 'output1.json',\n",
        "    'DOWNLOAD_DELAY': 1,  # Delay of 1 second between requests\n",
        "})\n",
        "\n",
        "\n",
        "process.crawl(AmazonReviewsSpider)"
      ],
      "metadata": {
        "id": "-rGwv-9lIbGz"
      },
      "execution_count": null,
      "outputs": []
    },
    {
      "cell_type": "code",
      "source": [
        "import pandas\n",
        "from transformers import pipeline\n",
        "import text2emotion as text2\n",
        "\n",
        "sentiment_classifier = pipeline(\"sentiment-analysis\")\n",
        "# Function to classify the sentiment of a given text\n",
        "def Pipe_sentiment(text):\n",
        "    result = sentiment_classifier(text)[0]\n",
        "    # Extract the sentiment and its score\n",
        "    sentiment = result['label']\n",
        "    score = result['score']\n",
        "    return sentiment, score\n",
        "\n",
        "\n",
        "def emo(text):\n",
        "  emotions = text2.get_emotion(text)\n",
        "  angry_score = emotions['Angry']\n",
        "  sad_score = emotions['Sad']\n",
        "  fear_score = emotions['Fear']\n",
        "  happy_score = emotions['Happy']\n",
        "  surprise_score = emotions['Surprise']\n",
        "\n",
        "  negative_emotion_score = (angry_score + sad_score + fear_score)/3\n",
        "  positive_emotion_score = (happy_score + surprise_score)/2\n",
        "\n",
        "  if negative_emotion_score > positive_emotion_score:\n",
        "    return \"Negative\"\n",
        "  elif negative_emotion_score < positive_emotion_score:\n",
        "    return \"Positive\"\n",
        "  else:\n",
        "    return \"Neutral\"\n",
        "\n",
        "from textblob import TextBlob\n",
        "\n",
        "def get_sentiment(text):\n",
        "    blob = TextBlob(text)\n",
        "    sentiment = blob.sentiment.polarity\n",
        "    if sentiment > 0:\n",
        "        return \"Positive\"\n",
        "    elif sentiment < 0:\n",
        "        return \"Negative\"\n",
        "    else:\n",
        "        return \"Neutral\"\n",
        "\n",
        "\n",
        "\n",
        "\n",
        "df = pandas.read_json('./output1.json')\n",
        "for i in range(len(df['text'])):\n",
        "    text = df['text'][i]\n",
        "    o = df['rating'][i]\n",
        "    print(text,o)\n",
        "    sentiment, score = Pipe_sentiment(text)\n",
        "    print(\"Predicted sentiment (Pipe):\", sentiment)\n",
        "\n",
        "    sentiment = get_sentiment(text)\n",
        "    print(\"Predicted sentiment (Txtblob):\", sentiment)\n",
        "\n",
        "    sentiment = emo(text)\n",
        "    print(\"Predicted sentiment (Text2Emo):\", sentiment)"
      ],
      "metadata": {
        "id": "7kdg2NgEIdQV"
      },
      "execution_count": null,
      "outputs": []
    }
  ]
}